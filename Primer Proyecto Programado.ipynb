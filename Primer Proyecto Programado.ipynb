{
 "cells": [
  {
   "cell_type": "markdown",
   "metadata": {},
   "source": [
    "# *Introduccion*\n",
    "\n",
    "QuickSort y Medians-Of-Medians son dos algoritmos, de ordenamiento y de seleccion en tiempo lineal respectivamente, los cuales utilizan la estrategia \"divide y conquista\", en la cual se realizan particiones de algun arreglo para llegar a su objetivo. Ambos pueden ser implementados de forma que trabajen recursivamente. Este curso trata los temas relacionados al analisis de algoritmos, relaciones de recurrencia, y algoritmos \"divide and conquer\" (particionamiento), por lo que se quiere realizar un reporte para estudiar mas a fondo los algoritmos ya mencionados.\n",
    "\n",
    "# *Marco de estudio*\n",
    "\n",
    "* Estudiar, analizar e implementar versiones propias de los algoritmos \"divide y conquista\" (QuickSort y Medians Of Medians)\n",
    "* Proponer un algoritmo propio y eficiente para ordenar 5 objetos (sort5)\n",
    "* Realizar el analisis O-Grande de cada algoritmo y validar la solucion con casos de prueba\n",
    "* Calcular el tiempo de corrida de los algoritmos (modulo timeit)\n",
    "* Generar datos CSV para visualizar de mejor manera el analisis O-Grande de cada algoritmo\n",
    "* Investigar sobre otros temas (GitHub, Profilling, OOP en Python, entre otros) que complementen el proyecto y amplien nuestro aprendizaje en general\n",
    "\n",
    "# *Desarrollo de soluciones*\n",
    "\n",
    "\n",
    "## Algoritmos\n",
    "\n",
    "## *Medians-of-Medians*\n",
    "\n",
    "### Que es?\n",
    "\n",
    "Los **\"Median-Finding algorithms\"** son algoritmos con los que podemos obtener el *n*-esimo numero mas pequeno de una arreglo **desordenado**, donde *n* es un numero dentro del rango de la longitud del arreglo dado. Estos son frecuentemente utilizados para diferentes objetivos, por ejemplo, obtener un buen pivote para ordenar un arreglo con ***QuickSort***, en estadistica de ordenamiento para conseguir la mediana, el maximo y el minimo de un arreglo, entre otros..\n",
    "\n",
    "Si quisieramos obtener la mediana de un arreglo de enteros, podriamos empezar ordenando el arreglo y seguido, conseguir la mediana con solo retornar el valor, del arreglo ordenado, con el indice del medio. El problema es que, entre los mejores y mas conocidos  algoritmos de ordenamiento, ninguno ha logrado ir mas rapido que ***nlog(n)***. De hecho, en el peor de los casos, ordenar un arreglo puede tomar tiempo ***O(n²)***. Aqui es donde entra en juego el algoritmo **Medians-Of-Medians**, el cual puede obtener el mismo valor pero en tiempo ***O(n)*** siempre.\n",
    "\n",
    "\n",
    "### FUNCIONAMIENTO\n",
    "\n",
    "El algoritmo trabaja recibiendo un arreglo y un indice, el cual indica la posicion del arreglo que queremos obtener:\n",
    "\n",
    "##### 1)Dividir el arreglo en sublistas de tamano cinco:\n",
    "##### 1)Dividir el arreglo en sublistas de tamano cinco:\n",
    "##### 1)Dividir el arreglo en sublistas de tamano cinco:\n",
    "##### 1)Dividir el arreglo en sublistas de tamano cinco:\n",
    "##### 1)Dividir el arreglo en sublistas de tamano cinco:"
   ]
  },
  {
   "cell_type": "code",
   "execution_count": null,
   "metadata": {},
   "outputs": [],
   "source": []
  },
  {
   "cell_type": "code",
   "execution_count": 1,
   "metadata": {},
   "outputs": [
    {
     "name": "stdout",
     "output_type": "stream",
     "text": [
      "10\n",
      "Hola mundo\n",
      "Prueba NBViewer\n"
     ]
    }
   ],
   "source": [
    "def foo(x):\n",
    "    print(x)\n",
    "\n",
    "x = 10    \n",
    "    \n",
    "foo(x)\n",
    "\n",
    "print(\"Hola mundo\")\n",
    "print(\"Prueba NBViewer\")"
   ]
  },
  {
   "cell_type": "code",
   "execution_count": null,
   "metadata": {},
   "outputs": [],
   "source": []
  },
  {
   "cell_type": "code",
   "execution_count": null,
   "metadata": {},
   "outputs": [],
   "source": []
  }
 ],
 "metadata": {
  "kernelspec": {
   "display_name": "Python 3",
   "language": "python",
   "name": "python3"
  },
  "language_info": {
   "codemirror_mode": {
    "name": "ipython",
    "version": 3
   },
   "file_extension": ".py",
   "mimetype": "text/x-python",
   "name": "python",
   "nbconvert_exporter": "python",
   "pygments_lexer": "ipython3",
   "version": "3.6.4"
  }
 },
 "nbformat": 4,
 "nbformat_minor": 2
}
