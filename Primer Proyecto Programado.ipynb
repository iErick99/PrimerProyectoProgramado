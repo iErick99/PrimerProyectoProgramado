{
 "cells": [
  {
   "cell_type": "markdown",
   "metadata": {},
   "source": [
    "# *Introduccion*\n",
    "\n",
    "QuickSort y Medians-Of-Medians son dos algoritmos, de ordenamiento y de seleccion lineal respectivamente, los cuales utilizan la estrategia \"divide y conquista\", en la cual se realizan particiones de algun arreglo para llegar a su objetivo. Ambos pueden ser implementados de forma que trabajen recursivamente. Este curso trata los temas relacionados al analisis de algoritmos, relaciones de recurrencia, y algoritmos \"divide and conquer\" (particionamiento), por lo que se quiere realizar un reporte para estudiar mas a fondo los algoritmos ya mencionados.\n",
    "\n",
    "# *Marco de estudio*\n",
    "\n",
    "* Estudiar, analizar e implementar versiones propias de los algoritmos \"divide y conquista\" (QuickSort y Medians Of Medians)\n",
    "* Proponer un algoritmo propio y eficiente para ordenar 5 objetos (sort5)\n",
    "* Realizar el analisis O-Grande de cada algoritmo y validar la solucion con casos de prueba\n",
    "* Calcular el tiempo de corrida de los algoritmos (modulo timeit)\n",
    "* Generar datos CSV para visualizar de mejor manera el analisis O-Grande de cada algoritmo\n",
    "* Investigar sobre otros temas (GitHub, Profilling, OOP en Python, entre otros) que complementen el proyecto y amplien nuestro aprendizaje en general\n",
    "\n",
    "# *Desarrollo de soluciones*\n",
    "\n",
    "\n",
    "## Algoritmos\n",
    "\n",
    "### *Medians-of-Medians*\n",
    "\n",
    "\n",
    "#### FUNCIONAMIENTO\n",
    "The median-of-medians algorithm is a deterministic linear time selection algorithm. The algorithm works by dividing a list into sublists and then determines the approximate median in each of the sublists. Then, it takes those medians and puts them into a list and finds the median of that list. It uses that median value as a pivot and compares other elements of the list against the pivot. If an element is less than the pivot value, the element is placed to the left of the pivot, and if the element has a value greater than the pivot, it is placed to the right. The algorithm recurses on the list, honing in on the value it is looking for.\n",
    "\n",
    "El algoritmo trabaja dividiendo el arreglo dado en sublistas de tamano cinco, las cuales seran ordenadas una por una,\n"
   ]
  },
  {
   "cell_type": "code",
   "execution_count": 1,
   "metadata": {},
   "outputs": [
    {
     "name": "stdout",
     "output_type": "stream",
     "text": [
      "10\n",
      "Hola mundo\n",
      "Prueba NBViewer\n"
     ]
    }
   ],
   "source": [
    "def foo(x):\n",
    "    print(x)\n",
    "\n",
    "x = 10    \n",
    "    \n",
    "foo(x)\n",
    "\n",
    "print(\"Hola mundo\")\n",
    "print(\"Prueba NBViewer\")"
   ]
  }
 ],
 "metadata": {
  "kernelspec": {
   "display_name": "Python 3",
   "language": "python",
   "name": "python3"
  },
  "language_info": {
   "codemirror_mode": {
    "name": "ipython",
    "version": 3
   },
   "file_extension": ".py",
   "mimetype": "text/x-python",
   "name": "python",
   "nbconvert_exporter": "python",
   "pygments_lexer": "ipython3",
   "version": "3.6.4"
  }
 },
 "nbformat": 4,
 "nbformat_minor": 2
}
