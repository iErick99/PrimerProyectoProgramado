{
 "cells": [
  {
   "cell_type": "markdown",
   "metadata": {},
   "source": [
    "# Introduccion\n",
    "\n",
    "QuickSort es un algoritmo de ordenamiento el cual utiliza la estrategia \"divide y conquista\". Este algoritmo selecciona un pivote (ya sea aleatorio o estatico) y realiza particiones del arreglo dado. \n",
    "\n",
    "Medians-Of-Medians es un algoritmo *determinante* de seleccion lineal. Este algoritmo divide una lista en sub-listas y crea una nueva lista compuesta por las medianas de las sub-listas y toma la mediana de la nueva lista como pivote, el cual sera usado para crear dos listas, una con los valores menores al pivote y la otra con los mayores. El algoritmo recurre en la lista, hasta encontrar el valor deseado\n",
    "\n",
    "QuickSort es un algoritmo de ordenamiento el cual utiliza la estrategia \"divide y conquista\" y realiza particiones de algun arreglo dado. Medians-Of-Medians es un algoritmo *determinante* de seleccion lineal. Este algoritmo divide una lista en sub-listas y crea una nueva lista compuesta por las medianas de las sub-listas y toma la mediana de la nueva lista como pivote, el cual sera usado para crear dos listas, una con los valores menores al pivote y la otra con los mayores. El algoritmo recurre en la lista, hasta encontrar el valor deseado\n",
    "\n",
    "\n",
    "Este curso trata los temas relacionados con la Carta de Tierra, en la cual uno de los\n",
    "principios establece que todos los seres vivos deben ser tratados con respeto y\n",
    "consideración, debido a este inciso, se quiere plantear una conciencia sobre el maltrato\n",
    "de animales domésticos en nuestro país y de lo frecuente que este hecho ocurre."
   ]
  },
  {
   "cell_type": "code",
   "execution_count": 1,
   "metadata": {},
   "outputs": [
    {
     "name": "stdout",
     "output_type": "stream",
     "text": [
      "10\n",
      "Hola mundo\n",
      "Prueba NBViewer\n"
     ]
    }
   ],
   "source": [
    "def foo(x):\n",
    "    print(x)\n",
    "\n",
    "x = 10    \n",
    "    \n",
    "foo(x)\n",
    "\n",
    "print(\"Hola mundo\")\n",
    "print(\"Prueba NBViewer\")"
   ]
  }
 ],
 "metadata": {
  "kernelspec": {
   "display_name": "Python 3",
   "language": "python",
   "name": "python3"
  },
  "language_info": {
   "codemirror_mode": {
    "name": "ipython",
    "version": 3
   },
   "file_extension": ".py",
   "mimetype": "text/x-python",
   "name": "python",
   "nbconvert_exporter": "python",
   "pygments_lexer": "ipython3",
   "version": "3.6.4"
  }
 },
 "nbformat": 4,
 "nbformat_minor": 2
}
